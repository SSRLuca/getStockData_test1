{
 "cells": [
  {
   "cell_type": "code",
   "execution_count": 11,
   "metadata": {},
   "outputs": [
    {
     "name": "stdout",
     "output_type": "stream",
     "text": [
      "分析結果: \n",
      " (False, '量縮價跌, 三日均價小於六日均價')\n"
     ]
    }
   ],
   "source": [
    "import twstock as t\n",
    "\n",
    "stock=t.Stock(\"0056\")\n",
    "b=t.BestFourPoint(stock)\n",
    "buy=b.best_four_point_to_buy()\n",
    "sell=b.best_four_point_to_sell()\n",
    "mix=b.best_four_point()\n",
    "print(f\"分析結果: \\n {mix}\")\n"
   ]
  }
 ],
 "metadata": {
  "kernelspec": {
   "display_name": "Python 3",
   "language": "python",
   "name": "python3"
  },
  "language_info": {
   "codemirror_mode": {
    "name": "ipython",
    "version": 3
   },
   "file_extension": ".py",
   "mimetype": "text/x-python",
   "name": "python",
   "nbconvert_exporter": "python",
   "pygments_lexer": "ipython3",
   "version": "3.10.2"
  }
 },
 "nbformat": 4,
 "nbformat_minor": 2
}
