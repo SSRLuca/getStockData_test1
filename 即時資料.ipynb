{
 "cells": [
  {
   "cell_type": "code",
   "execution_count": 7,
   "metadata": {},
   "outputs": [
    {
     "name": "stdout",
     "output_type": "stream",
     "text": [
      "True\n"
     ]
    },
    {
     "data": {
      "text/html": [
       "<div>\n",
       "<style scoped>\n",
       "    .dataframe tbody tr th:only-of-type {\n",
       "        vertical-align: middle;\n",
       "    }\n",
       "\n",
       "    .dataframe tbody tr th {\n",
       "        vertical-align: top;\n",
       "    }\n",
       "\n",
       "    .dataframe thead th {\n",
       "        text-align: right;\n",
       "    }\n",
       "</style>\n",
       "<table border=\"1\" class=\"dataframe\">\n",
       "  <thead>\n",
       "    <tr style=\"text-align: right;\">\n",
       "      <th></th>\n",
       "      <th>股票代碼</th>\n",
       "      <th>地區</th>\n",
       "      <th>股票名稱</th>\n",
       "      <th>公司全名</th>\n",
       "      <th>現在時間</th>\n",
       "      <th>最新成交價</th>\n",
       "      <th>成交量</th>\n",
       "      <th>累計成交量</th>\n",
       "      <th>最佳5檔賣出價</th>\n",
       "      <th>最佳5檔賣出量</th>\n",
       "      <th>最佳5檔買進價</th>\n",
       "      <th>最佳5檔買進量</th>\n",
       "      <th>開盤價</th>\n",
       "      <th>最高價</th>\n",
       "      <th>最低價</th>\n",
       "    </tr>\n",
       "  </thead>\n",
       "  <tbody>\n",
       "    <tr>\n",
       "      <th>info</th>\n",
       "      <td>00940</td>\n",
       "      <td>00940.tw</td>\n",
       "      <td>元大台灣價值高息</td>\n",
       "      <td>元大臺灣價值高息ETF證券投資信託基金</td>\n",
       "      <td>2024-06-27 14:30:00</td>\n",
       "      <td>NaN</td>\n",
       "      <td>NaN</td>\n",
       "      <td>NaN</td>\n",
       "      <td>NaN</td>\n",
       "      <td>NaN</td>\n",
       "      <td>NaN</td>\n",
       "      <td>NaN</td>\n",
       "      <td>NaN</td>\n",
       "      <td>NaN</td>\n",
       "      <td>NaN</td>\n",
       "    </tr>\n",
       "    <tr>\n",
       "      <th>realtime</th>\n",
       "      <td>NaN</td>\n",
       "      <td>NaN</td>\n",
       "      <td>NaN</td>\n",
       "      <td>NaN</td>\n",
       "      <td>NaN</td>\n",
       "      <td>10.1100</td>\n",
       "      <td>2463</td>\n",
       "      <td>212609</td>\n",
       "      <td>[10.1100, 10.1000, 10.0900, 10.0800, 10.0700]</td>\n",
       "      <td>[4936, 14076, 8422, 6858, 5571]</td>\n",
       "      <td>[10.1200, 10.1300, 10.1400, 10.1500, 10.1600]</td>\n",
       "      <td>[2118, 5724, 4892, 8810, 2919]</td>\n",
       "      <td>10.0900</td>\n",
       "      <td>10.1500</td>\n",
       "      <td>10.0600</td>\n",
       "    </tr>\n",
       "  </tbody>\n",
       "</table>\n",
       "</div>"
      ],
      "text/plain": [
       "           股票代碼        地區      股票名稱                 公司全名                 現在時間  \\\n",
       "info      00940  00940.tw  元大台灣價值高息  元大臺灣價值高息ETF證券投資信託基金  2024-06-27 14:30:00   \n",
       "realtime    NaN       NaN       NaN                  NaN                  NaN   \n",
       "\n",
       "            最新成交價   成交量   累計成交量  \\\n",
       "info          NaN   NaN     NaN   \n",
       "realtime  10.1100  2463  212609   \n",
       "\n",
       "                                                最佳5檔賣出價  \\\n",
       "info                                                NaN   \n",
       "realtime  [10.1100, 10.1000, 10.0900, 10.0800, 10.0700]   \n",
       "\n",
       "                                  最佳5檔賣出量  \\\n",
       "info                                  NaN   \n",
       "realtime  [4936, 14076, 8422, 6858, 5571]   \n",
       "\n",
       "                                                最佳5檔買進價  \\\n",
       "info                                                NaN   \n",
       "realtime  [10.1200, 10.1300, 10.1400, 10.1500, 10.1600]   \n",
       "\n",
       "                                 最佳5檔買進量      開盤價      最高價      最低價  \n",
       "info                                 NaN      NaN      NaN      NaN  \n",
       "realtime  [2118, 5724, 4892, 8810, 2919]  10.0900  10.1500  10.0600  "
      ]
     },
     "execution_count": 7,
     "metadata": {},
     "output_type": "execute_result"
    }
   ],
   "source": [
    "import twstock as t\n",
    "import pandas as p\n",
    "\n",
    "stock=t.realtime.get(\"00940\")\n",
    "print(stock['success'])\n",
    "result=p.DataFrame(stock).T.iloc[1:3]\n",
    "result.columns=['股票代碼', '地區', '股票名稱', '公司全名', '現在時間', '最新成交價', '成交量', '累計成交量', '最佳5檔賣出價', '最佳5檔賣出量', '最佳5檔買進價', '最佳5檔買進量', '開盤價', '最高價', '最低價']\n",
    "result"
   ]
  }
 ],
 "metadata": {
  "kernelspec": {
   "display_name": "Python 3",
   "language": "python",
   "name": "python3"
  },
  "language_info": {
   "codemirror_mode": {
    "name": "ipython",
    "version": 3
   },
   "file_extension": ".py",
   "mimetype": "text/x-python",
   "name": "python",
   "nbconvert_exporter": "python",
   "pygments_lexer": "ipython3",
   "version": "3.10.2"
  }
 },
 "nbformat": 4,
 "nbformat_minor": 2
}
